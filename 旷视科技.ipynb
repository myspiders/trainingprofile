{
 "cells": [
  {
   "cell_type": "code",
   "execution_count": null,
   "metadata": {
    "ExecuteTime": {
     "end_time": "2019-05-01T09:02:45.093111Z",
     "start_time": "2019-05-01T09:02:45.087113Z"
    }
   },
   "outputs": [],
   "source": [
    "import time\n",
    "import requests\n",
    "import random\n",
    "import base64\n",
    "import string\n",
    "import hashlib\n",
    "import os\n",
    "import json\n",
    "import re\n",
    "import csv\n",
    "from urllib.parse import  urlencode\n",
    "apikey=\"申请的id\"\n",
    "apisecret=\"申请的api_secret参数\""
   ]
  },
  {
   "cell_type": "code",
   "execution_count": null,
   "metadata": {
    "ExecuteTime": {
     "end_time": "2019-05-01T09:02:46.684985Z",
     "start_time": "2019-05-01T09:02:46.679979Z"
    }
   },
   "outputs": [],
   "source": [
    "def to_base64(path):\n",
    "    with open(path,'rb') as f:\n",
    "            base64_data = base64.b64encode(f.read())\n",
    "            return base64_data"
   ]
  },
  {
   "cell_type": "code",
   "execution_count": 16,
   "metadata": {
    "ExecuteTime": {
     "end_time": "2019-05-01T09:11:12.950896Z",
     "start_time": "2019-05-01T09:11:12.942892Z"
    }
   },
   "outputs": [],
   "source": [
    "def main1(appkey,appsecret,path):\n",
    "    imgbase64=to_base64(path)\n",
    "    url='https://api-cn.faceplusplus.com/facepp/v3/detect'\n",
    "    params={'api_key':apikey,\n",
    "            'api_secret':apisecret,\n",
    "            'image_base64':imgbase64,\n",
    "           'return_attributes':'gender,age,beauty'}\n",
    "    response=requests.post(url,data=params)\n",
    "    return response.text"
   ]
  },
  {
   "cell_type": "code",
   "execution_count": 28,
   "metadata": {
    "ExecuteTime": {
     "end_time": "2019-05-01T09:27:44.813885Z",
     "start_time": "2019-05-01T09:27:40.585403Z"
    }
   },
   "outputs": [
    {
     "name": "stdout",
     "output_type": "stream",
     "text": [
      "{'name': 'kuangshi.csv'}\n",
      "{'name': '简历头像', 'gender': 'Male', 'age': 28, 'female_beauty_score': 70.921, 'male_beauty_score': 68.789}\n",
      "{'name': '美女一', 'gender': 'Female', 'age': 30, 'female_beauty_score': 80.615, 'male_beauty_score': 78.982}\n",
      "{'name': '美女三', 'gender': 'Female', 'age': 21, 'female_beauty_score': 79.741, 'male_beauty_score': 73.978}\n",
      "{'name': '美女二', 'gender': 'Female', 'age': 23, 'female_beauty_score': 89.367, 'male_beauty_score': 90.585}\n"
     ]
    }
   ],
   "source": [
    "path1=r\"C:/Users/约明/Desktop/测试\"\n",
    "os.chdir(path1)\n",
    "data={}\n",
    "with open('kuangshi.csv','w',newline='') as f:\n",
    "    title=['name','gender','age','female_beauty_score','male_beauty_score']\n",
    "    writer=csv.DictWriter(f,fieldnames=title)\n",
    "    writer.writeheader()\n",
    "    for file in os.listdir(path1):\n",
    "        js=main1(appkey,appsecret,file)\n",
    "        try:\n",
    "            js1=json.loads(js)\n",
    "            faces=js1.get('faces')[0]\n",
    "            attributes=faces['attributes']\n",
    "            data['name']=re.findall('(.*?).jpg',file)[0]\n",
    "            data['gender']=attributes['gender']['value']\n",
    "            data['age']=attributes['age']['value']\n",
    "            data['female_beauty_score']=attributes['beauty']['female_score']\n",
    "            data['male_beauty_score']=attributes['beauty']['male_score']\n",
    "            writer.writerow(data)\n",
    "        except:\n",
    "            data['name']=file\n",
    "            writer.writerow(data)\n",
    "        print(data)"
   ]
  },
  {
   "cell_type": "code",
   "execution_count": 27,
   "metadata": {
    "ExecuteTime": {
     "end_time": "2019-05-01T09:22:59.334758Z",
     "start_time": "2019-05-01T09:22:59.319758Z"
    }
   },
   "outputs": [
    {
     "data": {
      "text/plain": [
       "{'name': ['美女二'],\n",
       " 'gender': 'Female',\n",
       " 'age': 23,\n",
       " 'female_beauty_score': 89.367,\n",
       " 'male_beauty_score': 90.585}"
      ]
     },
     "execution_count": 27,
     "metadata": {},
     "output_type": "execute_result"
    }
   ],
   "source": [
    "\n"
   ]
  },
  {
   "cell_type": "code",
   "execution_count": null,
   "metadata": {},
   "outputs": [],
   "source": []
  }
 ],
 "metadata": {
  "kernelspec": {
   "display_name": "Python 3",
   "language": "python",
   "name": "python3"
  },
  "language_info": {
   "codemirror_mode": {
    "name": "ipython",
    "version": 3
   },
   "file_extension": ".py",
   "mimetype": "text/x-python",
   "name": "python",
   "nbconvert_exporter": "python",
   "pygments_lexer": "ipython3",
   "version": "3.7.1"
  }
 },
 "nbformat": 4,
 "nbformat_minor": 2
}

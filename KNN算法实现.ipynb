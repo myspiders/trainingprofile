{
 "cells": [
  {
   "cell_type": "code",
   "execution_count": 1,
   "metadata": {
    "ExecuteTime": {
     "end_time": "2019-05-03T05:10:11.272453Z",
     "start_time": "2019-05-03T05:10:10.759739Z"
    }
   },
   "outputs": [],
   "source": [
    "import math\n",
    "import numpy as np\n",
    "import pandas as pd"
   ]
  },
  {
   "cell_type": "code",
   "execution_count": 2,
   "metadata": {
    "ExecuteTime": {
     "end_time": "2019-05-03T05:10:11.327457Z",
     "start_time": "2019-05-03T05:10:11.276469Z"
    },
    "code_folding": []
   },
   "outputs": [],
   "source": [
    "class KNN:#以下所有函数除标签外均接收二维数组\n",
    "    def __init__(self,traindata,label,k=3,p=2):\n",
    "        self.label=None\n",
    "        self.K=k#传入K值\n",
    "        self.p=p#传入p值，默认为2\n",
    "        self.X=traindata\n",
    "        self.label=label\n",
    "    \n",
    "    def L(self,X1,X2):#计算两个样本特征值的距离,为避免误判，将两个样本设为X1,X2\n",
    "        if len(X1)==len(X2) and len(X1)>1:\n",
    "            distance=0\n",
    "            for i in range(len(X1)):\n",
    "                distance+=math.pow(abs(X2[i]-X1[i]),self.p)#按照闵可夫斯距离计算\n",
    "            return math.pow(distance,1/self.p)\n",
    "        else:\n",
    "            return 0\n",
    "        \n",
    "    def fit(self,y):#计算每一个样本与测试的结果，并返回一个长度为K的列表，列表元素为值和标签组成的元组\n",
    "        numtrainx=len(self.X)#由于一般的训练集都不会只有一个样本，因此，不考虑只有一个样本的情况\n",
    "        lenlist=self.K\n",
    "        result1=[]\n",
    "        for i in range(lenlist):#首先挑选前K各样本，计算前K各样本与y的距离，并填入一个列表中\n",
    "            distance=self.L(self.X[i],y)\n",
    "            result1.append((self.label[i],distance))\n",
    "        for num1 in range(lenlist,numtrainx):#计算剩下的样本与y的距离\n",
    "            distance1=self.L(self.X[num1],y)\n",
    "            indexmin=result1.index(max(result1,key=lambda x:x[1]))#此项为得到一个列表中最大值所对应的索引，后续每个样本与y的距离只需要更新result这个列表即可\n",
    "            if distance1<max(result1,key=lambda x:x[1])[1]:#更新条件是每各样本计算出来距离后，就跟列表中的最大值比较，比最大值小，就更新，否则不更新\n",
    "                result1[indexmin]=(self.label[num1],distance1)\n",
    "        return result1    \n",
    "    \n",
    "    def predict(self,testdata):\n",
    "        predcitlabel=[]\n",
    "        for i in range(len(testdata)):\n",
    "            resultdistance=self.fit(testdata[i])\n",
    "            label=[i[0] for i in resultdistance]#获取对应距离的标签，并放入组成一个列表\n",
    "            labelcount={}#计算列表中每一个标签出现的次数，将结果放入字典中\n",
    "            for num1 in label:\n",
    "                labelcount1=label.count(num1)\n",
    "                labelcount[num1]=labelcount1\n",
    "            maxlabel=max(labelcount,key=labelcount.get)\n",
    "            predcitlabel.append(maxlabel)\n",
    "        return predcitlabel\n",
    "    \n",
    "    def score(self,testdata,testlabel):\n",
    "        rightcount=0\n",
    "        for p1,y1 in zip(testdata,testlabel):\n",
    "            p2=np.array([p1])#因为定义的函数需要传入二维数组\n",
    "            label=self.predict(p2)\n",
    "            if label==y1:\n",
    "                rightcount+=1\n",
    "        return rightcount/len(testdata)\n",
    "                "
   ]
  },
  {
   "cell_type": "code",
   "execution_count": 3,
   "metadata": {
    "ExecuteTime": {
     "end_time": "2019-05-03T05:10:12.820100Z",
     "start_time": "2019-05-03T05:10:11.332460Z"
    }
   },
   "outputs": [
    {
     "data": {
      "text/plain": [
       "1.0"
      ]
     },
     "execution_count": 3,
     "metadata": {},
     "output_type": "execute_result"
    }
   ],
   "source": [
    "import numpy as np\n",
    "import pandas as pd\n",
    "import matplotlib.pyplot as plt\n",
    "%matplotlib inline\n",
    "\n",
    "from sklearn.datasets import load_iris\n",
    "from sklearn.model_selection import train_test_split\n",
    "\n",
    "from collections import Counter\n",
    "\n",
    "iris = load_iris()\n",
    "df = pd.DataFrame(iris.data, columns=iris.feature_names)\n",
    "df['label'] = iris.target\n",
    "df.columns = ['sepal length', 'sepal width', 'petal length', 'petal width', 'label']\n",
    "\n",
    "data = np.array(df.iloc[:100, [0, 1, -1]])\n",
    "X, y = data[:,:-1], data[:,-1]\n",
    "X_train, X_test, y_train, y_test = train_test_split(X, y, test_size=0.2)\n",
    "\n",
    "clf=KNN(X_train,y_train)\n",
    "clf.score(X_test,y_test)"
   ]
  },
  {
   "cell_type": "code",
   "execution_count": null,
   "metadata": {},
   "outputs": [],
   "source": []
  }
 ],
 "metadata": {
  "kernelspec": {
   "display_name": "Python 3",
   "language": "python",
   "name": "python3"
  },
  "language_info": {
   "codemirror_mode": {
    "name": "ipython",
    "version": 3
   },
   "file_extension": ".py",
   "mimetype": "text/x-python",
   "name": "python",
   "nbconvert_exporter": "python",
   "pygments_lexer": "ipython3",
   "version": "3.7.1"
  }
 },
 "nbformat": 4,
 "nbformat_minor": 2
}

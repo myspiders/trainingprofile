{
 "cells": [
  {
   "cell_type": "code",
   "execution_count": null,
   "metadata": {
    "ExecuteTime": {
     "end_time": "2019-01-12T15:47:44.063327Z",
     "start_time": "2019-01-12T15:47:43.457155Z"
    }
   },
   "outputs": [],
   "source": [
    "import pandas as pd\n",
    "import os\n",
    "import numpy as np\n",
    "from math import log\n",
    "import matplotlib.pyplot as plt\n",
    "%matplotlib inline\n",
    "\n",
    "os.chdir('C:/Users/约明/Desktop/')\n",
    "df=pd.read_excel('数据.xlsx',sheet_name=0)\n",
    "\n",
    "df1=df.dropna()#去除所有的缺失值\n",
    "\n",
    "'''计算K值和D值，并获得分组数据'''\n",
    "#定义计算RSV值的函数\n",
    "def rsv(datasets,axis=0):\n",
    "    data=datasets.iloc[axis:axis+7,:]\n",
    "    H=max(data['现货'])\n",
    "    L=min(data['现货'])\n",
    "    C=np.array(data['现货'])[-1]\n",
    "    ini_rsv=(C-L)/(H-L)\n",
    "    return ini_rsv\n",
    "#定义rsv的序列值\n",
    "def rsv_x(datasets):\n",
    "    RSV=[]\n",
    "    for i in range(len(datasets)-6):\n",
    "        rsv_1=100*rsv(datasets,i)\n",
    "        RSV.append(rsv_1)\n",
    "    return RSV\n",
    "#定义K值和D值的序列\n",
    "def KD(RSV,ini_K=74.21,ini_D=61.05):\n",
    "    K=[]\n",
    "    D=[]\n",
    "    for i in range(len(RSV)):\n",
    "        ini_K=ini_K*2/3+RSV[i]/3\n",
    "        ini_D=ini_D*2/3+ini_K/3\n",
    "        K.append(ini_K)\n",
    "        D.append(ini_D)\n",
    "    return K,D\n",
    "df2=df1.iloc[6:,:]\n",
    "RSV=rsv_x(df1)\n",
    "K,D=KD(RSV)\n",
    "df2['K']=K\n",
    "df2['D']=D\n",
    "df2['RSV']=RSV\n",
    "df2.head()\n",
    "df3=df2.copy()\n",
    "df3['label']=df3['K']>df3['D']\n",
    "df4=pd.DataFrame(df3,columns=['日期','label'])\n",
    "#将分组数据反向合并到初始数据集df2\n",
    "df5=pd.merge(df2,df4,how='inner',on='日期')\n",
    "df5.head()\n",
    "\n",
    "df6=df5[df5['label']==True]\n",
    "df6['权重']=0.72\n",
    "df5=pd.merge(df5,df6,how='left',on='日期')\n",
    "df5.fillna(0.82,axis=1,inplace=True)\n",
    "\n",
    "df7=pd.DataFrame(df5,columns=['股指期货_x','现货_x','权重'])\n",
    "df7.to_csv('shouyilv.csv')\n",
    "data1=pd.read_csv('shouyilv.csv',encoding='utf-8')\n",
    "writer=pd.ExcelWriter('shouyilv.xlsx')\n",
    "data1.to_excel(writer,'sheet1')\n",
    "writer.save()"
   ]
  }
 ],
 "metadata": {
  "kernelspec": {
   "display_name": "Python 3",
   "language": "python",
   "name": "python3"
  },
  "language_info": {
   "codemirror_mode": {
    "name": "ipython",
    "version": 3
   },
   "file_extension": ".py",
   "mimetype": "text/x-python",
   "name": "python",
   "nbconvert_exporter": "python",
   "pygments_lexer": "ipython3",
   "version": "3.7.1"
  }
 },
 "nbformat": 4,
 "nbformat_minor": 2
}

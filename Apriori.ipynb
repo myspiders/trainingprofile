{
 "cells": [
  {
   "cell_type": "code",
   "execution_count": 1,
   "metadata": {
    "ExecuteTime": {
     "end_time": "2019-05-06T15:13:42.149209Z",
     "start_time": "2019-05-06T15:13:42.013508Z"
    }
   },
   "outputs": [],
   "source": [
    "import numpy as np\n",
    "import math"
   ]
  },
  {
   "cell_type": "code",
   "execution_count": 2,
   "metadata": {
    "ExecuteTime": {
     "end_time": "2019-05-06T15:13:42.178843Z",
     "start_time": "2019-05-06T15:13:42.149209Z"
    }
   },
   "outputs": [],
   "source": [
    "class Apriori:\n",
    "    def __init__(self):\n",
    "        self.k=0#不知道填啥，就随便写了一个变量，没啥用，不用关心\n",
    "        \n",
    "    def createC1(self,dataset):#构建一个项为1的频繁项集,即将所有出现的项放入一个列表中\n",
    "        C1=[]\n",
    "        for dataline in datasets:\n",
    "            for item in dataline:\n",
    "                if [item] not in C1:\n",
    "                    C1.append([item])\n",
    "        C1.sort()\n",
    "        return list(map(frozenset,C1))#将C1集合冰冻，让其变成一个不可修改的集合,再将其转化为一个列表，方便循环\n",
    "    \n",
    "    def scanD(self,datasets,C1,minsupport):#数据集，频繁项集，最低支持度\n",
    "        sscnt={}#频繁项集及其对应的支持度\n",
    "        for tid in datasets:\n",
    "            for can in C1:\n",
    "                if can.issubset(tid):\n",
    "                    if can not in sscnt.keys():\n",
    "                        sscnt[can]=1\n",
    "                    else:\n",
    "                        sscnt[can]+=1\n",
    "        totalnum=len(datasets)#接下来计算支持度\n",
    "        retlist=[]\n",
    "        supportdata={}#存放项集以及其支持度\n",
    "        for key in sscnt.keys():\n",
    "            support=sscnt[key]/totalnum\n",
    "            if support>minsupport:\n",
    "                retlist.append(key)#返回支持度大于设定的支持度的频繁项集\n",
    "            supportdata[key]=support\n",
    "        return retlist,supportdata\n",
    "        \n",
    "    def apriorigen(self,lk):#此函数主要为产生接下来的更多项集\n",
    "        retlist=[]\n",
    "        lenlk=len(lk)\n",
    "        for i in range(lenlk):\n",
    "            for j in range(i+1,lenlk):\n",
    "                L1=lk[i]#将第i项中的集合元素取出来\n",
    "                L2=lk[j]#将第j项中的集合元素取出来\n",
    "                retlist.append(L1|L2)#计算L1和L2的并集，并将其添加到列表中\n",
    "        retlist1=list(set(retlist))#每一次运行合并后的频繁项集不能有重复的，因此需要对已经分好的频繁项集去一下重\n",
    "        return retlist1\n",
    "    \n",
    "    def apriori(self,datasets,minsupport=0.3):#输入数据集和最低支持度，直接输出多项结果，L[0]为一项集，L[1]为二项集，以此类推        \n",
    "        C1=self.createC1(datasets)\n",
    "        Lk,supportdata=self.scanD(datasets,C1,minsupport)#生成一项集\n",
    "        L=[Lk]\n",
    "        k=0\n",
    "        while (len(L[k])>0):#循环执行，直到不存在频繁项集为止\n",
    "            Ck=self.apriorigen(Lk)#生成二项集\n",
    "            Lk,supk=self.scanD(datasets,Ck,minsupport)#生成二项集下的集合和支持度\n",
    "            supportdata.update(supk)\n",
    "            L.append(Lk)\n",
    "            k+=1\n",
    "        return L,supportdata\n",
    "    \n",
    "    #以下为关联规则的函数\n",
    "    def calcondf(self,freqset,supportdata,H1,mincondf=0.5):#计算置信度\n",
    "        cal=[]\n",
    "        for H in H1:\n",
    "            condf=supportdata[freqset]/supportdata[freqset-H]\n",
    "            if condf>=mincondf:\n",
    "                cal.append((freqset-H,H,condf))\n",
    "                print(freqset-H,'-->',H,'可信度为：',condf)\n",
    "        return cal \n",
    "    \n",
    "    def rulegen(self,datasets,minsupport=0.3,mincondf=0.5):\n",
    "        L,supportdata=self.apriori(datasets,minsupport)\n",
    "        bigru=[]\n",
    "        for i in range(len(L)):\n",
    "            for freqset in L[i]:\n",
    "                H1=[frozenset([item]) for item in freqset]\n",
    "                if i>0:\n",
    "                    km=self.calcondf(freqset,supportdata,H1,mincondf)\n",
    "                    bigru.append(km)\n",
    "        return bigru"
   ]
  },
  {
   "cell_type": "code",
   "execution_count": 3,
   "metadata": {
    "ExecuteTime": {
     "end_time": "2019-05-06T15:13:42.207785Z",
     "start_time": "2019-05-06T15:13:42.182856Z"
    }
   },
   "outputs": [],
   "source": [
    "datasets=[[1,3,4],[2,3,5],[1,2,3,5],[2,5]]"
   ]
  },
  {
   "cell_type": "code",
   "execution_count": 4,
   "metadata": {
    "ExecuteTime": {
     "end_time": "2019-05-06T15:13:42.275773Z",
     "start_time": "2019-05-06T15:13:42.211766Z"
    }
   },
   "outputs": [
    {
     "name": "stdout",
     "output_type": "stream",
     "text": [
      "frozenset({3}) --> frozenset({1}) 可信度为： 0.6666666666666666\n",
      "frozenset({1}) --> frozenset({3}) 可信度为： 1.0\n",
      "frozenset({3}) --> frozenset({2}) 可信度为： 0.6666666666666666\n",
      "frozenset({2}) --> frozenset({3}) 可信度为： 0.6666666666666666\n",
      "frozenset({5}) --> frozenset({2}) 可信度为： 1.0\n",
      "frozenset({2}) --> frozenset({5}) 可信度为： 1.0\n",
      "frozenset({5}) --> frozenset({3}) 可信度为： 0.6666666666666666\n",
      "frozenset({3}) --> frozenset({5}) 可信度为： 0.6666666666666666\n",
      "frozenset({3, 5}) --> frozenset({2}) 可信度为： 1.0\n",
      "frozenset({2, 5}) --> frozenset({3}) 可信度为： 0.6666666666666666\n",
      "frozenset({2, 3}) --> frozenset({5}) 可信度为： 1.0\n"
     ]
    },
    {
     "data": {
      "text/plain": [
       "[[(frozenset({3}), frozenset({1}), 0.6666666666666666),\n",
       "  (frozenset({1}), frozenset({3}), 1.0)],\n",
       " [(frozenset({3}), frozenset({2}), 0.6666666666666666),\n",
       "  (frozenset({2}), frozenset({3}), 0.6666666666666666)],\n",
       " [(frozenset({5}), frozenset({2}), 1.0),\n",
       "  (frozenset({2}), frozenset({5}), 1.0)],\n",
       " [(frozenset({5}), frozenset({3}), 0.6666666666666666),\n",
       "  (frozenset({3}), frozenset({5}), 0.6666666666666666)],\n",
       " [(frozenset({3, 5}), frozenset({2}), 1.0),\n",
       "  (frozenset({2, 5}), frozenset({3}), 0.6666666666666666),\n",
       "  (frozenset({2, 3}), frozenset({5}), 1.0)]]"
      ]
     },
     "execution_count": 4,
     "metadata": {},
     "output_type": "execute_result"
    }
   ],
   "source": [
    "ap=Apriori()\n",
    "C1=ap.createC1(datasets)\n",
    "L=ap.rulegen(datasets,minsupport=0.3,mincondf=0.5)\n",
    "L"
   ]
  },
  {
   "cell_type": "code",
   "execution_count": null,
   "metadata": {},
   "outputs": [],
   "source": []
  }
 ],
 "metadata": {
  "kernelspec": {
   "display_name": "Python 3",
   "language": "python",
   "name": "python3"
  },
  "language_info": {
   "codemirror_mode": {
    "name": "ipython",
    "version": 3
   },
   "file_extension": ".py",
   "mimetype": "text/x-python",
   "name": "python",
   "nbconvert_exporter": "python",
   "pygments_lexer": "ipython3",
   "version": "3.7.1"
  }
 },
 "nbformat": 4,
 "nbformat_minor": 2
}

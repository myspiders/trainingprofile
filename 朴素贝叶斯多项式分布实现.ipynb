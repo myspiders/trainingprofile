{
 "cells": [
  {
   "cell_type": "code",
   "execution_count": null,
   "metadata": {
    "ExecuteTime": {
     "end_time": "2019-05-02T10:51:43.582333Z",
     "start_time": "2019-05-02T10:51:42.571899Z"
    }
   },
   "outputs": [],
   "source": [
    "import numpy as np\n",
    "import pandas as pd"
   ]
  },
  {
   "cell_type": "code",
   "execution_count": null,
   "metadata": {
    "ExecuteTime": {
     "end_time": "2019-05-02T15:20:31.139189Z",
     "start_time": "2019-05-02T15:20:31.097480Z"
    },
    "code_folding": []
   },
   "outputs": [],
   "source": [
    "class NaiveBayes:\n",
    "    def __init__(self):#分别为对应的训练数据集的特征部分和标签部分，均为numpy类型\n",
    "        self.model=None\n",
    "        self.labelprobibty1=None#此变量主要储存后面label标签计算出来的值\n",
    "        \n",
    "    def labelprobibty(self,labeldata):#计算一行数据中的各类不同值的概率\n",
    "        label={}\n",
    "        numlabeldata=len(labeldata)\n",
    "        labelset=list(set(labeldata))\n",
    "        for m in labelset:\n",
    "            label1=[]\n",
    "            for category in labeldata:\n",
    "                if category==m:\n",
    "                    label1.append(category)\n",
    "            numcatory=len(label1)\n",
    "            probibty=numcatory/numlabeldata\n",
    "            label[m]=probibty\n",
    "        return label#返回一个包含各个标签概率的字典值\n",
    "    \n",
    "    def splitdata(self,traindata,num):#将特征数据集中的每一列属性值单独划分出来，并放入同一个列表中\n",
    "        num1=len(traindata)\n",
    "        num2=[]\n",
    "        for i in range(num1):\n",
    "            num2.append(traindata[i][num])\n",
    "        return num2\n",
    "    \n",
    "    def probabilities(self,traindata,labeldata,keys):#计算条件概率的函数\n",
    "        features={}\n",
    "        traindatacategory=traindata[labeldata==keys]#此项是将所有具有相同标签数据的训练组数组筛选出来\n",
    "        numtraindatacategory=len(traindatacategory)#计算每种单独分类的样本总数\n",
    "        numfeature=len(traindatacategory[0])#计算属性的个数\n",
    "        for num in range(numfeature):#遍历所有特征属性下的特征值，并计算在此类别下的条件概率\n",
    "            split=self.splitdata(traindatacategory,num)\n",
    "            featuresprobibty=self.labelprobibty(split)\n",
    "            features[num]=featuresprobibty#将计算的条件概率按照属性的顺序返回一个字典\n",
    "        return features\n",
    "    \n",
    "    def fit(self,traindata,labeldata):#返回各类标签\n",
    "        keys1={}\n",
    "        probity1=self.labelprobibty(labeldata)\n",
    "        self.labelprobibty1=probity1\n",
    "        for keys in list(probity1.keys()):\n",
    "            traindata1=self.probabilities(traindata,labeldata,keys)\n",
    "            keys1[keys]=traindata1\n",
    "        self.model=keys1\n",
    "        return \"训练完毕\"\n",
    "    def test(self):\n",
    "        k=self.model\n",
    "        m=self.labelprobibty1\n",
    "        return k,m\n",
    "    \n",
    "    def predict(self,testdata):\n",
    "        result={}\n",
    "        if testdata.ndim==1:\n",
    "            num1=len(testdata)\n",
    "            label2={}#将不同标签计算出来的结果存储在一个字典中\n",
    "            for label in list(self.model.keys()):\n",
    "                label1=1\n",
    "                for i in range(num1):\n",
    "                    testdata1=testdata[i]\n",
    "                    totalprobibty=self.model[label][i][testdata1]*self.labelprobibty1[label]\n",
    "                    label1*=totalprobibty\n",
    "                    label2[label]=label1\n",
    "                maxlabel=max(label2,key=label2.get)#返回字典中values值最大所对应得键位\n",
    "                result[maxlabel]=label2[maxlabel]\n",
    "        if testdata.ndim!=1:\n",
    "            num2,num1=testdata.shape\n",
    "            for k in range(num2):\n",
    "                label2={}#将不同标签计算出来的结果存储在一个字典中\n",
    "                for label in list(self.model.keys()):\n",
    "                    label1=1\n",
    "                    for i in range(num1):\n",
    "                        testdata1=testdata[k][i]\n",
    "                        totalprobibty=self.model[label][i][testdata1]*self.labelprobibty1[label]\n",
    "                        label1*=totalprobibty\n",
    "                    label2[label]=label1\n",
    "                maxlabel=max(label2,key=label2.get)#返回字典中values值最大所对应得键位\n",
    "                result[maxlabel]=label2[maxlabel]\n",
    "        return result#返回一个字典，字典的字包括了每个样本对应标签的概率"
   ]
  },
  {
   "cell_type": "code",
   "execution_count": null,
   "metadata": {
    "ExecuteTime": {
     "end_time": "2019-05-02T15:21:00.644312Z",
     "start_time": "2019-05-02T15:21:00.631739Z"
    }
   },
   "outputs": [],
   "source": []
  },
  {
   "cell_type": "code",
   "execution_count": null,
   "metadata": {
    "ExecuteTime": {
     "end_time": "2019-05-02T15:18:14.323106Z",
     "start_time": "2019-05-02T15:18:14.316056Z"
    }
   },
   "outputs": [],
   "source": []
  },
  {
   "cell_type": "code",
   "execution_count": null,
   "metadata": {
    "ExecuteTime": {
     "end_time": "2019-05-02T15:14:45.558424Z",
     "start_time": "2019-05-02T15:14:45.550889Z"
    }
   },
   "outputs": [],
   "source": []
  },
  {
   "cell_type": "code",
   "execution_count": null,
   "metadata": {
    "ExecuteTime": {
     "end_time": "2019-05-02T15:14:58.849480Z",
     "start_time": "2019-05-02T15:14:58.842948Z"
    }
   },
   "outputs": [],
   "source": []
  },
  {
   "cell_type": "code",
   "execution_count": null,
   "metadata": {},
   "outputs": [],
   "source": []
  }
 ],
 "metadata": {
  "kernelspec": {
   "display_name": "Python 3",
   "language": "python",
   "name": "python3"
  },
  "language_info": {
   "codemirror_mode": {
    "name": "ipython",
    "version": 3
   },
   "file_extension": ".py",
   "mimetype": "text/x-python",
   "name": "python",
   "nbconvert_exporter": "python",
   "pygments_lexer": "ipython3",
   "version": "3.7.1"
  }
 },
 "nbformat": 4,
 "nbformat_minor": 2
}

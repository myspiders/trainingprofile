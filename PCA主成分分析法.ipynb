{
 "cells": [
  {
   "cell_type": "code",
   "execution_count": 1,
   "metadata": {
    "ExecuteTime": {
     "end_time": "2019-05-06T01:28:30.761717Z",
     "start_time": "2019-05-06T01:28:30.398986Z"
    }
   },
   "outputs": [],
   "source": [
    "import numpy as np\n",
    "import math"
   ]
  },
  {
   "cell_type": "code",
   "execution_count": 65,
   "metadata": {
    "ExecuteTime": {
     "end_time": "2019-05-06T03:15:12.207234Z",
     "start_time": "2019-05-06T03:15:12.196234Z"
    }
   },
   "outputs": [],
   "source": [
    "def pca(datasets,N=99999):#分别为二维数组，降维后输出的维数\n",
    "    meanval=np.mean(datasets,axis=0)#求均值，预备中心化\n",
    "    meanremoved=datasets-meanval#中心化 PS:中心化和标准化不一样\n",
    "#    print(meanremoved)\n",
    "    covmat=np.cov(datasets,rowvar=False)#如果未True则默认以行为变量，即得出的矩阵是各个样本之间的协方差矩阵，Fasle则相反\n",
    "    eigvalues,eigvectors=np.linalg.eig(covmat)#计算特征值和相应的特征向量，详细计算方式可以参考线性代数\n",
    "#    print(eigvalues,eigvectors)\n",
    "    eigsort=np.argsort(eigvalues)#此项是将数组内的数字从大到小排序，并返回各值所对应的索引\n",
    "    sortedn=eigsort[:-(N+1):-1]#取前N个最大的特征值对应的特征向量,PS：k[i:j:k],前面的i和j和普通的切片一样，k表示步长\n",
    "    sortvectors=eigvectors[:,sortedn]#前N个特征值对应的特征向量\n",
    "#    print(sortvectors)\n",
    "    lowdatamat=np.dot(meanremoved,sortvectors)#高维对低维的投影\n",
    "#    print(lowdatamat)\n",
    "    reconmat=np.dot(lowdatamat,sortvectors.T)+meanval\n",
    "    return lowdatamat,reconmat"
   ]
  },
  {
   "cell_type": "code",
   "execution_count": 66,
   "metadata": {
    "ExecuteTime": {
     "end_time": "2019-05-06T03:15:12.980850Z",
     "start_time": "2019-05-06T03:15:12.972849Z"
    }
   },
   "outputs": [],
   "source": [
    "k=np.array([1,5,10,3,8,4])\n",
    "k1=np.argsort(k)\n",
    "k2=np.array([[1,2],[3,1],[4,2],[6,2],[4,3],[2,1]])"
   ]
  },
  {
   "cell_type": "code",
   "execution_count": 68,
   "metadata": {
    "ExecuteTime": {
     "end_time": "2019-05-06T03:16:16.498395Z",
     "start_time": "2019-05-06T03:16:16.483395Z"
    }
   },
   "outputs": [
    {
     "data": {
      "text/plain": [
       "(array([[-2.26657775],\n",
       "        [-0.47611582],\n",
       "        [ 0.68567339],\n",
       "        [ 2.65384082],\n",
       "        [ 0.86337889],\n",
       "        [-1.46019953]]), array([[1.10283108, 1.43055001],\n",
       "        [2.86479551, 1.74872494],\n",
       "        [4.00809335, 1.95518126],\n",
       "        [5.94493487, 2.30493543],\n",
       "        [4.18297043, 1.9867605 ],\n",
       "        [1.89637475, 1.57384785]]))"
      ]
     },
     "execution_count": 68,
     "metadata": {},
     "output_type": "execute_result"
    }
   ],
   "source": [
    "pca(k2,N=1)"
   ]
  },
  {
   "cell_type": "code",
   "execution_count": null,
   "metadata": {},
   "outputs": [],
   "source": []
  }
 ],
 "metadata": {
  "kernelspec": {
   "display_name": "Python 3",
   "language": "python",
   "name": "python3"
  },
  "language_info": {
   "codemirror_mode": {
    "name": "ipython",
    "version": 3
   },
   "file_extension": ".py",
   "mimetype": "text/x-python",
   "name": "python",
   "nbconvert_exporter": "python",
   "pygments_lexer": "ipython3",
   "version": "3.7.1"
  }
 },
 "nbformat": 4,
 "nbformat_minor": 2
}

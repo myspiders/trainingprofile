{
 "cells": [
  {
   "cell_type": "code",
   "execution_count": null,
   "metadata": {
    "ExecuteTime": {
     "end_time": "2019-05-01T08:30:09.674799Z",
     "start_time": "2019-05-01T08:30:09.661800Z"
    }
   },
   "outputs": [],
   "source": [
    "import time\n",
    "import requests\n",
    "import random\n",
    "import base64\n",
    "import string\n",
    "import hashlib\n",
    "import os\n",
    "import json\n",
    "import re\n",
    "import csv\n",
    "from urllib.parse import  urlencode\n",
    "appid=\"申请的app_id\"\n",
    "appkey=\"申请的app_key\""
   ]
  },
  {
   "cell_type": "code",
   "execution_count": null,
   "metadata": {
    "ExecuteTime": {
     "end_time": "2019-05-01T07:18:28.507839Z",
     "start_time": "2019-05-01T07:18:28.499838Z"
    }
   },
   "outputs": [],
   "source": [
    "#定义一个图片转base64编码的函数\n",
    "def to_base64(path):\n",
    "    with open(path,'rb') as f:\n",
    "            base64_data = base64.b64encode(f.read())\n",
    "            return base64_data"
   ]
  },
  {
   "cell_type": "code",
   "execution_count": null,
   "metadata": {
    "ExecuteTime": {
     "end_time": "2019-05-01T07:52:23.928187Z",
     "start_time": "2019-05-01T07:52:23.913185Z"
    }
   },
   "outputs": [],
   "source": [
    "def get_params(appid,appkey,img):\n",
    "    time_stamp=str(int(time.time()))#将当前时间戳转换为秒级的字符串\n",
    "    random_str=''.join(random.sample(string.ascii_letters+string.digits,18))#生成随机的字符串\n",
    "    params={'app_id':appid,\n",
    "           'time_stamp':time_stamp,\n",
    "           'nonce_str':random_str,\n",
    "           'mode':'0',\n",
    "           'image':img}\n",
    "    sort_dict= sorted(params.items(), key=lambda item:item[0], reverse = False)  #字典排序\n",
    "    sort_dict.append(('app_key',appkey))#尾部添加appkey\n",
    "    rawtext= urlencode(sort_dict).encode() #urlencod编码\n",
    "    sha = hashlib.md5()    \n",
    "    sha.update(rawtext)\n",
    "    md5text= sha.hexdigest().upper()#MD5加密计算,并大写\n",
    "    params['sign']=md5text  #将签名赋值到sign\n",
    "    return  params          "
   ]
  },
  {
   "cell_type": "code",
   "execution_count": null,
   "metadata": {
    "ExecuteTime": {
     "end_time": "2019-05-01T08:26:45.633054Z",
     "start_time": "2019-05-01T08:26:45.620056Z"
    }
   },
   "outputs": [],
   "source": [
    "def mian(appid,appkey,path):\n",
    "    data={}\n",
    "    img=to_base64(path)\n",
    "    params=get_params(appid,appkey,img)#获得提交的参数\n",
    "    url='https://api.ai.qq.com/fcgi-bin/face/face_detectface'\n",
    "    response=requests.post(url,data=params)\n",
    "    js=json.loads(response.text)\n",
    "    try:\n",
    "        js1=js.get('data').get('face_list')\n",
    "        js2=js1[0]['beauty']\n",
    "        data['name']=re.findall('(.*?).jpg',path)[0]\n",
    "        data['beauty']=js2\n",
    "        data['age']=js1[0]['age']\n",
    "        return data\n",
    "    except:\n",
    "        return data   "
   ]
  },
  {
   "cell_type": "code",
   "execution_count": null,
   "metadata": {
    "ExecuteTime": {
     "end_time": "2019-05-01T08:32:04.126385Z",
     "start_time": "2019-05-01T08:31:58.747322Z"
    }
   },
   "outputs": [],
   "source": [
    "path1=r\"C:\\Users\\约明\\Desktop\\测试\"#输入要测试的文件夹\n",
    "os.chdir(path1)\n",
    "with open('txAI.csv','w',newline='') as f:#最终结果储存在输入的文件夹中\n",
    "        title=['name','age','beauty']\n",
    "        writer=csv.DictWriter(f,fieldnames=title)\n",
    "        writer.writeheader()\n",
    "        for file in os.listdir(path1):\n",
    "            data=mian(appid,appkey,file)\n",
    "            writer.writerow(data)\n",
    "            print('正确的结果：'+str(data))\n",
    "    "
   ]
  },
  {
   "cell_type": "code",
   "execution_count": null,
   "metadata": {
    "ExecuteTime": {
     "end_time": "2019-05-01T07:59:31.515446Z",
     "start_time": "2019-05-01T07:59:31.497443Z"
    }
   },
   "outputs": [],
   "source": []
  },
  {
   "cell_type": "code",
   "execution_count": null,
   "metadata": {},
   "outputs": [],
   "source": []
  }
 ],
 "metadata": {
  "kernelspec": {
   "display_name": "Python 3",
   "language": "python",
   "name": "python3"
  },
  "language_info": {
   "codemirror_mode": {
    "name": "ipython",
    "version": 3
   },
   "file_extension": ".py",
   "mimetype": "text/x-python",
   "name": "python",
   "nbconvert_exporter": "python",
   "pygments_lexer": "ipython3",
   "version": "3.7.1"
  }
 },
 "nbformat": 4,
 "nbformat_minor": 2
}

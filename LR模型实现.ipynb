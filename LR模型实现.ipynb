{
 "cells": [
  {
   "cell_type": "code",
   "execution_count": 4,
   "metadata": {
    "ExecuteTime": {
     "end_time": "2019-05-04T01:32:34.265277Z",
     "start_time": "2019-05-04T01:32:33.947613Z"
    }
   },
   "outputs": [],
   "source": [
    "import math\n",
    "import numpy as np"
   ]
  },
  {
   "cell_type": "code",
   "execution_count": 83,
   "metadata": {
    "ExecuteTime": {
     "end_time": "2019-05-04T03:22:25.390691Z",
     "start_time": "2019-05-04T03:22:25.360710Z"
    }
   },
   "outputs": [],
   "source": [
    "class LogisticRegression:\n",
    "    def __init__(self,max_num=200,learningrate=0.01):\n",
    "        self.max_num=max_num\n",
    "        self.learningrate=learningrate\n",
    "        self.weights=None\n",
    "    \n",
    "    def sigmod(self,x):#定义sigmod函数\n",
    "        return 1/(1+math.exp(-x))\n",
    "    \n",
    "    def data_matrix(self,x):#将二维数组添加一列值为1的数据，以对应训练时的截距\n",
    "        num1=len(x)\n",
    "        ones1=np.ones((1,num1))#建立一个与x维数相同，值为1的二维矩阵\n",
    "        data=np.column_stack((ones1.T,x))#将ones1这个矩阵添加到原矩阵中\n",
    "        return data\n",
    "    \n",
    "    def fit(self,x,y):#分别为属性列，标签列，最大迭代轮数，学习率\n",
    "        new_matrix=self.data_matrix(x)#将矩阵转化为有1的矩阵\n",
    "        num2=len(new_matrix[0])\n",
    "        self.weights=np.ones(num2)#初始化权重向量\n",
    "        for i in range(self.max_num):#迭代轮数\n",
    "            for k in range(len(new_matrix)):#增量学习法（随机梯度下降法）\n",
    "                result=self.sigmod(np.dot(new_matrix[k],self.weights))\n",
    "                error=y[k]-result#误差\n",
    "                self.weights+=self.learningrate*error*np.transpose(new_matrix[k])#按照梯度下降更新权重\n",
    "        print('训练完毕，轮数为：{}，学习率为：{}'.format(self.max_num,self.learningrate))\n",
    "    \n",
    "    def cofficient(self):#打印训练完成后得出的权重值\n",
    "        return self.weights\n",
    "    \n",
    "    def predict(self,testdata):#预测给出的一个二维矩阵的值\n",
    "        result1=[]\n",
    "        testdata1=self.data_matrix(testdata)\n",
    "        for testline in testdata1:\n",
    "            result=self.sigmod(np.dot(testline,self.weights))\n",
    "            if result>=0.5:\n",
    "                mubiao=1\n",
    "                result1.append(mubiao)\n",
    "            if result<0.5:\n",
    "                mubiao=0\n",
    "                result1.append(mubiao)\n",
    "        return result1\n",
    "    \n",
    "    def score(self,testdata,testlabel):#正确个数\n",
    "        rightcount= 0\n",
    "        result1=self.predict(testdata)\n",
    "        for i in range(len(result1)):\n",
    "            if result1[i]==testlabel[i]:\n",
    "                rightcount+=1\n",
    "        return rightcount / len(testdata)"
   ]
  },
  {
   "cell_type": "code",
   "execution_count": 61,
   "metadata": {
    "ExecuteTime": {
     "end_time": "2019-05-04T03:09:34.847110Z",
     "start_time": "2019-05-04T03:09:33.907462Z"
    }
   },
   "outputs": [],
   "source": [
    "from sklearn.datasets import load_iris\n",
    "from sklearn.model_selection import train_test_split\n",
    "import pandas as pd"
   ]
  },
  {
   "cell_type": "code",
   "execution_count": 62,
   "metadata": {
    "ExecuteTime": {
     "end_time": "2019-05-04T03:09:34.894013Z",
     "start_time": "2019-05-04T03:09:34.847110Z"
    }
   },
   "outputs": [],
   "source": [
    "def create_data():\n",
    "    iris = load_iris()\n",
    "    df = pd.DataFrame(iris.data, columns=iris.feature_names)\n",
    "    df['label'] = iris.target\n",
    "    df.columns = ['sepal length', 'sepal width', 'petal length', 'petal width', 'label']\n",
    "    data = np.array(df.iloc[:100, [0,1,-1]])\n",
    "    # print(data)\n",
    "    return data[:,:2], data[:,-1]\n",
    "X, y = create_data()\n",
    "X_train, X_test, y_train, y_test = train_test_split(X, y, test_size=0.3)"
   ]
  },
  {
   "cell_type": "code",
   "execution_count": 85,
   "metadata": {
    "ExecuteTime": {
     "end_time": "2019-05-04T03:27:13.844083Z",
     "start_time": "2019-05-04T03:27:13.589975Z"
    }
   },
   "outputs": [
    {
     "name": "stdout",
     "output_type": "stream",
     "text": [
      "训练完毕，轮数为：300，学习率为：0.1\n",
      "0.9666666666666667\n"
     ]
    }
   ],
   "source": [
    "lr_clf = LogisticRegression(max_num=300,learningrate=0.1)\n",
    "lr_clf.fit(X_train, y_train)\n",
    "print(lr_clf.score(X_test,y_test))"
   ]
  },
  {
   "cell_type": "code",
   "execution_count": null,
   "metadata": {},
   "outputs": [],
   "source": []
  }
 ],
 "metadata": {
  "kernelspec": {
   "display_name": "Python 3",
   "language": "python",
   "name": "python3"
  },
  "language_info": {
   "codemirror_mode": {
    "name": "ipython",
    "version": 3
   },
   "file_extension": ".py",
   "mimetype": "text/x-python",
   "name": "python",
   "nbconvert_exporter": "python",
   "pygments_lexer": "ipython3",
   "version": "3.7.1"
  }
 },
 "nbformat": 4,
 "nbformat_minor": 2
}

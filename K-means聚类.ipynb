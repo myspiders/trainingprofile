{
 "cells": [
  {
   "cell_type": "code",
   "execution_count": null,
   "metadata": {
    "ExecuteTime": {
     "end_time": "2019-05-05T11:02:08.054530Z",
     "start_time": "2019-05-05T11:02:08.049523Z"
    }
   },
   "outputs": [],
   "source": [
    "import numpy as np\n",
    "import math\n",
    "import random"
   ]
  },
  {
   "cell_type": "code",
   "execution_count": 64,
   "metadata": {
    "ExecuteTime": {
     "end_time": "2019-05-05T12:36:35.188970Z",
     "start_time": "2019-05-05T12:36:35.155947Z"
    }
   },
   "outputs": [],
   "source": [
    "class Kmeans:\n",
    "    def __init__(self,K=5,p=2):\n",
    "        self.k=K#聚集成多少类\n",
    "        self.p=p#采用的距离计算方式，默认使用闵可夫斯基距离/最常用的距离计算方式\n",
    "        self.result=None\n",
    "    \n",
    "    def L(self,x1,x2):#计算两个样本之间的距离\n",
    "        num1=len(x1)\n",
    "        distance1=0\n",
    "        if len(x1)==len(x2):\n",
    "            for i in range(num1):\n",
    "                distance1+=math.pow(abs(x1[i]-x2[i]),self.p)\n",
    "            distance=math.pow(distance1,1/self.p)\n",
    "            return distance\n",
    "        else:\n",
    "            return '各样本特征数不一样'\n",
    "        \n",
    "    def randomcenter(self,datasets):#随机选择K个初始中心点\n",
    "        m,n=datasets.shape\n",
    "        h=set()#生成K个不重复的随机数\n",
    "        while len(h)<self.k:\n",
    "            h.add(random.randint(0,m))\n",
    "        randomindex=list(h)\n",
    "        randomcents=datasets[randomindex,:]#返回随机的K个样本点\n",
    "        return randomcents\n",
    "    \n",
    "    def fit(self,datasets):\n",
    "        centers=self.randomcenter(datasets)#随机选择K个初始中心点\n",
    "        m,n=datasets.shape\n",
    "        changedAssign=True\n",
    "        clusterAssment = np.zeros((m,2))#生成一个mx2的矩阵，待会儿会更新此矩阵对应的行值来对应原样本的簇\n",
    "        itertime=0#循环次数\n",
    "        while changedAssign:\n",
    "            changedAssign=False\n",
    "            for i in range(m):\n",
    "                mindist=math.inf\n",
    "                minindex=-1\n",
    "                for k in range(self.k):\n",
    "                    distance1=self.L(datasets[i],centers[k])\n",
    "                    if distance1<mindist:\n",
    "                        mindist=distance1\n",
    "                        minindex=k\n",
    "                if clusterAssment[i,0]!=minindex:#如果样本值有变化，则继续更新\n",
    "                    chaangedAssign=True\n",
    "                clusterAssment[i,:]=minindex,mindist**2\n",
    "            sse=sum(clusterAssment[:,1])\n",
    "            for cent in range(k):#更新聚类中心\n",
    "                samecluster=datasets[clusterAssment[:,0]==cent,:]\n",
    "                centers[cent,:] = np.mean(samecluster,axis=0)\n",
    "            itertime+=1\n",
    "        print(itertime)\n",
    "        return centers,clusterAssment"
   ]
  },
  {
   "cell_type": "code",
   "execution_count": null,
   "metadata": {},
   "outputs": [],
   "source": []
  }
 ],
 "metadata": {
  "kernelspec": {
   "display_name": "Python 3",
   "language": "python",
   "name": "python3"
  },
  "language_info": {
   "codemirror_mode": {
    "name": "ipython",
    "version": 3
   },
   "file_extension": ".py",
   "mimetype": "text/x-python",
   "name": "python",
   "nbconvert_exporter": "python",
   "pygments_lexer": "ipython3",
   "version": "3.7.1"
  }
 },
 "nbformat": 4,
 "nbformat_minor": 2
}

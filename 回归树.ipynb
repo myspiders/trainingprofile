{
 "cells": [
  {
   "cell_type": "code",
   "execution_count": null,
   "metadata": {
    "ExecuteTime": {
     "end_time": "2019-05-05T08:17:52.998927Z",
     "start_time": "2019-05-05T08:17:52.992928Z"
    }
   },
   "outputs": [],
   "source": [
    "import numpy as np\n",
    "import math"
   ]
  },
  {
   "cell_type": "code",
   "execution_count": null,
   "metadata": {
    "ExecuteTime": {
     "end_time": "2019-05-05T09:30:00.612234Z",
     "start_time": "2019-05-05T09:30:00.576234Z"
    },
    "code_folding": []
   },
   "outputs": [],
   "source": [
    "class RegressionTree:\n",
    "    def __init__(self):\n",
    "        self.mytree = None\n",
    "\n",
    "    def regerr(self, matline):  # 要传入要计算的列，用于计算方差\n",
    "        return np.var(matline)*len(matline)\n",
    "\n",
    "    def splitdata(self, datasets, index, value):  # 此函数的目的是在某个属性里，按照特定的值对数据进行分拆\n",
    "        mat0 = datasets[datasets[:, index] > value, :]  # 类似pandas里的iloc等多重嵌套\n",
    "        mat1 = datasets[datasets[:, index] <= value, :]\n",
    "        return mat0, mat1\n",
    "\n",
    "    # ops传入的数据为划分的最小样本数，1为允许的误差下降值，即如果剩下的数据集的样本数只有这么点儿后，就不再划分\n",
    "    def bestsplitfeatures(self, datasets, ops=(1, 4)):\n",
    "        m, n = datasets.shape\n",
    "        tolsN = ops[0]; tollN = ops[1]\n",
    "        if len(set()) == 1:\n",
    "            return None, np.mean(datasets[:, -1])\n",
    "        errdata = self.regerr(datasets[:, -1])\n",
    "        bests=math.inf#为无穷大符号,表明其值为正无穷大\n",
    "        bestindex = 0  # 最佳索引\n",
    "        bestvalue = 0  # 最佳索引对应的最佳切分值\n",
    "        for i in range(n-1):  # 遍历所有属性值\n",
    "            for features in list(set(datasets[:,i])):# 相应属性下不重复的特征值\n",
    "                mat0, mat1=self.splitdata(\n",
    "                    datasets, i, features)  # 数据集按照不同的特征值进行二元切分,这里会包括所有的可能切分点\n",
    "                if len(mat0) < tollN or len(mat1) < tollN:  # 看是否满足允许的最小样本，如果比最小样本小，则停止切分，直接跳过该此循环\n",
    "                    continue#这一步实际上市过滤掉某些不满足条件的子集\n",
    "                newerr=self.regerr(mat0[:,-1])+self.regerr(mat1[:,-1])#事实上计算的是最后一列的误差\n",
    "                if newerr<bests:\n",
    "                    bestindex=i\n",
    "                    bestvalue=features\n",
    "                    bests=newerr\n",
    "        if errdata-bests<tolsN:#如果误差值在规定的限度内，则直接停止切分，返回结果\n",
    "            return None,np.mean(datasets[:, -1])\n",
    "        mat0,mat1=self.splitdata(datasets,bestindex,bestvalue)#按照最佳切分方式切分数据集\n",
    "        #如果切分后的数据集，比限定的样本数要少，则不应划分\n",
    "        if len(mat0) < tollN or len(mat1) < tollN:\n",
    "            return None,np.mean(datasets[:, -1])\n",
    "        return bestindex,bestvalue\n",
    "        \n",
    "    def createtree(self,datasets,ops=(1,4)):\n",
    "        bestindex,bestvalue=self.bestsplitfeatures(datasets)\n",
    "        if bestindex==None:\n",
    "            return bestvalue#如果索引为None,则直接指定值为bestvalue\n",
    "        mytree={}\n",
    "        mytree['spindex']=bestindex\n",
    "        mytree['spvalue']=bestvalue\n",
    "        mat0,mat1=splitdata(datasets,bestindex,bestvalue)\n",
    "        mytree['left']=createtree(mat0,ops)\n",
    "        mytree['right']=createtree(mat1,ops)\n",
    "        return mytree"
   ]
  },
  {
   "cell_type": "code",
   "execution_count": null,
   "metadata": {
    "ExecuteTime": {
     "end_time": "2019-05-05T09:30:01.128579Z",
     "start_time": "2019-05-05T09:30:01.120557Z"
    }
   },
   "outputs": [],
   "source": [
    "k=np.array([[1,2,5],[5,3,4],[4,4,4]])\n",
    "RT=RegressionTree()\n",
    "mat0,mat1=RT.splitdata(k,1,3)"
   ]
  },
  {
   "cell_type": "code",
   "execution_count": null,
   "metadata": {},
   "outputs": [],
   "source": []
  }
 ],
 "metadata": {
  "kernelspec": {
   "display_name": "Python 3",
   "language": "python",
   "name": "python3"
  },
  "language_info": {
   "codemirror_mode": {
    "name": "ipython",
    "version": 3
   },
   "file_extension": ".py",
   "mimetype": "text/x-python",
   "name": "python",
   "nbconvert_exporter": "python",
   "pygments_lexer": "ipython3",
   "version": "3.7.1"
  }
 },
 "nbformat": 4,
 "nbformat_minor": 2
}
